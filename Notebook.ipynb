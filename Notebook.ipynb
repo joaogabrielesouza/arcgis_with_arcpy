{
 "cells": [
  {
   "cell_type": "code",
   "execution_count": 12,
   "metadata": {},
   "outputs": [],
   "source": [
    "import arcpy\n",
    "import csv\n",
    "import sys\n",
    "import os"
   ]
  },
  {
   "cell_type": "code",
   "execution_count": 13,
   "metadata": {},
   "outputs": [],
   "source": [
    "\"\"\"\n",
    "\n",
    "Create a feature class in Arcgis Pro using arcpy\n",
    "\n",
    "\"\"\"\n",
    "\n",
    "######## Overwrite files\n",
    "\n",
    "arcpy.env.overwriteOutput = True\n",
    "\n",
    "### Set Directory\n",
    "\n",
    "root_directory = \"./\"\n",
    "\n",
    "### Set Projection (use any file '.prj ' of esri shapefiles... I choose WGS84 in this code)\n",
    "\n",
    "prj = root_directory + \"wgs_84.prj\"\n",
    "\n",
    "### create feature class\n",
    "\n",
    "df = arcpy.management.CreateFeatureclass(root_directory,\n",
    "                                         \"feature_class.shp\",\n",
    "                                         \"POINT\",\n",
    "                                         \"\", \n",
    "                                         \"DISABLED\",\n",
    "                                         \"DISABLED\", prj)"
   ]
  },
  {
   "cell_type": "code",
   "execution_count": 14,
   "metadata": {},
   "outputs": [
    {
     "ename": "ExecuteError",
     "evalue": "Failed to execute. Parameters are not valid.\nERROR 000732: Input Table: Dataset Directory_in does not exist or is not supported\nWARNING 000725: Output Feature Class: Dataset C:/Users/JoaoGabrielPriedolse/OneDrive - QMC Telecom/Área de Trabalho/Docs/Arcgis/Module_arcpy\\results.shp already exists.\nFailed to execute (XYTableToPoint).\n",
     "output_type": "error",
     "traceback": [
      "\u001b[0;31m---------------------------------------------------------------------------\u001b[0m\n\u001b[0;31mExecuteError\u001b[0m                              Traceback (most recent call last)",
      "In  \u001b[0;34m[14]\u001b[0m:\nLine \u001b[0;34m7\u001b[0m:     arcpy.management.XYTableToPoint(in_csv , \u001b[33m\"\u001b[39;49;00m\u001b[33mresults\u001b[39;49;00m\u001b[33m\"\u001b[39;49;00m, x_field, y_field, coordinate_system=arcpy.SpatialReference(\u001b[34m4326\u001b[39;49;00m))\n",
      "File \u001b[0;34mC:\\Program Files\\ArcGIS\\Pro\\Resources\\ArcPy\\arcpy\\management.py\u001b[0m, in \u001b[0;32mXYTableToPoint\u001b[0m:\nLine \u001b[0;34m5541\u001b[0m:  \u001b[34mraise\u001b[39;49;00m e\n",
      "File \u001b[0;34mC:\\Program Files\\ArcGIS\\Pro\\Resources\\ArcPy\\arcpy\\management.py\u001b[0m, in \u001b[0;32mXYTableToPoint\u001b[0m:\nLine \u001b[0;34m5538\u001b[0m:  retval = convertArcObjectToPythonObject(gp.XYTableToPoint_management(*gp_fixargs((in_table, out_feature_class, x_field, y_field, z_field, coordinate_system), \u001b[34mTrue\u001b[39;49;00m)))\n",
      "File \u001b[0;34mC:\\Program Files\\ArcGIS\\Pro\\Resources\\ArcPy\\arcpy\\geoprocessing\\_base.py\u001b[0m, in \u001b[0;32m<lambda>\u001b[0m:\nLine \u001b[0;34m512\u001b[0m:   \u001b[34mreturn\u001b[39;49;00m \u001b[34mlambda\u001b[39;49;00m *args: val(*gp_fixargs(args, \u001b[34mTrue\u001b[39;49;00m))\n",
      "\u001b[0;31mExecuteError\u001b[0m: Failed to execute. Parameters are not valid.\nERROR 000732: Input Table: Dataset Directory_in does not exist or is not supported\nWARNING 000725: Output Feature Class: Dataset C:/Users/JoaoGabrielPriedolse/OneDrive - QMC Telecom/Área de Trabalho/Docs/Arcgis/Module_arcpy\\results.shp already exists.\nFailed to execute (XYTableToPoint).\n\n\u001b[0;31m---------------------------------------------------------------------------\u001b[0m"
     ]
    }
   ],
   "source": [
    "###### CSV with lat and lon to project\n",
    "\n",
    "in_csv = \"Directory_in\"\n",
    "out_fc = \"Directory_out\"\n",
    "x_field, y_field = \"longitude\", \"latitude\"\n",
    "\n",
    "arcpy.management.XYTableToPoint(in_csv , \"results\", x_field, y_field, coordinate_system=arcpy.SpatialReference(4326))\n",
    "df = arcpy.management.Project(\"results\", out_fc , arcpy.SpatialReference(4326))"
   ]
  },
  {
   "cell_type": "code",
   "execution_count": 6,
   "metadata": {},
   "outputs": [],
   "source": [
    "####### Buffer Analysis for the points of CSV file with lat and lon\n",
    "df = arcpy.Buffer_analysis(df, \"results_buffer\", \"500 METERS\")"
   ]
  }
 ],
 "metadata": {
  "kernelspec": {
   "display_name": "ArcGISPro",
   "language": "Python",
   "name": "python3"
  },
  "language_info": {
   "file_extension": ".py",
   "name": "python",
   "version": "3"
  }
 },
 "nbformat": 4,
 "nbformat_minor": 2
}
