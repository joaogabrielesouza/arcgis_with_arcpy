{
 "cells": [
  {
   "cell_type": "code",
   "execution_count": 12,
   "metadata": {},
   "outputs": [],
   "source": [
    "import arcpy\n",
    "import csv\n",
    "import sys\n",
    "import os"
   ]
  },
  {
   "cell_type": "code",
   "execution_count": 13,
   "metadata": {},
   "outputs": [],
   "source": [
    "\"\"\"\n",
    "\n",
    "Create a feature class in Arcgis Pro using arcpy\n",
    "\n",
    "\"\"\"\n",
    "\n",
    "######## Overwrite files\n",
    "\n",
    "arcpy.env.overwriteOutput = True\n",
    "\n",
    "### Set Directory\n",
    "\n",
    "root_directory = \"./\"\n",
    "\n",
    "### Set Projection (use any file '.prj ' of esri shapefiles... I choose WGS84 in this code)\n",
    "\n",
    "prj = root_directory + \"wgs_84.prj\"\n",
    "\n",
    "### create feature class\n",
    "\n",
    "df = arcpy.management.CreateFeatureclass(root_directory,\n",
    "                                         \"feature_class.shp\",\n",
    "                                         \"POINT\",\n",
    "                                         \"\", \n",
    "                                         \"DISABLED\",\n",
    "                                         \"DISABLED\", prj)"
   ]
  },
  {
   "cell_type": "code",
   "execution_count": 1,
   "metadata": {},
   "outputs": [],
   "source": [
    "###### CSV with lat and lon to project\n",
    "\n",
    "in_csv = \"Directory_in\"\n",
    "out_fc = \"Directory_out\"\n",
    "x_field, y_field = \"longitude\", \"latitude\"\n",
    "\n",
    "arcpy.management.XYTableToPoint(in_csv , \"results\", x_field, y_field, coordinate_system=arcpy.SpatialReference(4326))\n",
    "df = arcpy.management.Project(\"results\", out_fc , arcpy.SpatialReference(4326))"
   ]
  },
  {
   "cell_type": "code",
   "execution_count": 6,
   "metadata": {},
   "outputs": [],
   "source": [
    "####### Buffer Analysis for the points of CSV file with lat and lon\n",
    "df = arcpy.Buffer_analysis(df, \"results_buffer\", \"500 METERS\")"
   ]
  }
 ],
 "metadata": {
  "kernelspec": {
   "display_name": "ArcGISPro",
   "language": "Python",
   "name": "python3"
  },
  "language_info": {
   "codemirror_mode": {
    "name": "ipython",
    "version": 3
   },
   "file_extension": ".py",
   "mimetype": "text/x-python",
   "name": "python",
   "nbconvert_exporter": "python",
   "pygments_lexer": "ipython3",
   "version": "3.9.16"
  }
 },
 "nbformat": 4,
 "nbformat_minor": 2
}
